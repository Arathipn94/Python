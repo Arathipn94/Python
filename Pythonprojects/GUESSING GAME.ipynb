{
 "cells": [
  {
   "cell_type": "code",
   "execution_count": 1,
   "id": "dd34519f",
   "metadata": {},
   "outputs": [
    {
     "name": "stdout",
     "output_type": "stream",
     "text": [
      "Enter your guess: 50\n",
      "You guessed the number Wrong. Enter a larger Number\n",
      "Enter your guess: 100\n",
      "You guessed the number Wrong. Enter a smaller Number\n",
      "Enter your guess: 90\n",
      "You guessed the number Wrong. Enter a smaller Number\n",
      "Enter your guess: 80\n",
      "You guessed the number Wrong. Enter a smaller Number\n",
      "Enter your guess: 70\n",
      "You guessed the number Wrong. Enter a larger Number\n",
      "Enter your guess: 75\n",
      "You guessed the number Wrong. Enter a larger Number\n",
      "Enter your guess: 78\n",
      "You guessed the number Wrong. Enter a smaller Number\n",
      "Enter your guess: 77\n",
      "You guessed the number Wrong. Enter a smaller Number\n",
      "Enter your guess: 76\n",
      "You guessed the number Correctly!\n",
      "You Guessed the number in  9 guesses\n",
      "Congratulations!!! You have broken the Record of HighScore\n"
     ]
    }
   ],
   "source": [
    "import random\n",
    "randno=random.randint(1,100)\n",
    "#print(randno)\n",
    "guess=None\n",
    "guesses=0\n",
    "\n",
    "while(guess!= randno):\n",
    "    guess=int(input(\"Enter your guess: \"))\n",
    "    guesses+=1\n",
    "    if (guess==randno):\n",
    "        print(\"You guessed the number Correctly!\")\n",
    "    else:\n",
    "        if (guess>randno):\n",
    "                print(\"You guessed the number Wrong. Enter a smaller Number\")\n",
    "        else:\n",
    "             print(\"You guessed the number Wrong. Enter a larger Number\")\n",
    "    \n",
    "    \n",
    "print(f\"You Guessed the number in  {guesses} guesses\")\n",
    "\n",
    "\n",
    "with open(\"highscore.txt\",\"r\") as f:\n",
    "    highscore=int(f.read()) #returns as a string, hence we typecasted it to int\n",
    "    \n",
    "if(guesses<highscore):\n",
    "    print(\"Congratulations!!! You have broken the Record of HighScore\")\n",
    "    with open(\"highscore.txt\",\"w\")as f:\n",
    "        f.write(str(guesses))"
   ]
  },
  {
   "cell_type": "code",
   "execution_count": null,
   "id": "dbf69364",
   "metadata": {},
   "outputs": [],
   "source": []
  }
 ],
 "metadata": {
  "kernelspec": {
   "display_name": "Python 3 (ipykernel)",
   "language": "python",
   "name": "python3"
  },
  "language_info": {
   "codemirror_mode": {
    "name": "ipython",
    "version": 3
   },
   "file_extension": ".py",
   "mimetype": "text/x-python",
   "name": "python",
   "nbconvert_exporter": "python",
   "pygments_lexer": "ipython3",
   "version": "3.11.5"
  }
 },
 "nbformat": 4,
 "nbformat_minor": 5
}
