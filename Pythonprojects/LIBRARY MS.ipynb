{
 "cells": [
  {
   "cell_type": "code",
   "execution_count": 1,
   "id": "4869abd5",
   "metadata": {},
   "outputs": [
    {
     "name": "stdout",
     "output_type": "stream",
     "text": [
      "\n",
      "        *******WELCOME TO CENTRAL LIBRARY*******\n",
      "        Please choose an option from the following menu:\n",
      "        1. List of Books available in the Library\n",
      "        2. Request a Book\n",
      "        3. Donate/Return a Book\n",
      "        4. Exit the Library\n",
      "        \n",
      "Enter a choice: 1\n",
      "Books Available in the Library are: \n",
      "\t*Algorithm\n",
      "\t*Django\n",
      "\t*clrs\n",
      "\t*Python Notes\n",
      "\n",
      "        *******WELCOME TO CENTRAL LIBRARY*******\n",
      "        Please choose an option from the following menu:\n",
      "        1. List of Books available in the Library\n",
      "        2. Request a Book\n",
      "        3. Donate/Return a Book\n",
      "        4. Exit the Library\n",
      "        \n",
      "Enter a choice: 4\n",
      "Thanks for choosing Central Library\n"
     ]
    }
   ],
   "source": [
    "class Library:\n",
    "    def __init__(self,listofBooks):\n",
    "        self.books=listofBooks\n",
    "        \n",
    "    def displayAvailableBooks(self):\n",
    "        print(\"Books Available in the Library are: \")\n",
    "        for book in self.books:\n",
    "            \n",
    "            print(\"\\t*\" + book)\n",
    "    def borrowBook(self,bookName):\n",
    "        if bookName in self.books:\n",
    "            print(f\"You have been issued {bookName}. Please keep it safe and return it within 30 days\")\n",
    "            self.books.remove(bookName)\n",
    "            return True\n",
    "        else:\n",
    "            print(\"Sorry the book is not available at this moment\")\n",
    "            return False\n",
    "        \n",
    "    def returnBook(self,bookName):\n",
    "        self.books.append(bookName)\n",
    "        print(\"Thanks for returning. Have a nice day\")\n",
    "        \n",
    "class Student:\n",
    "    def requestBook(self):\n",
    "        self.book=input(\"Enter the name of the book you want to borrow\")\n",
    "        return self.book\n",
    "    def returnBook(self):\n",
    "        self.book=input(\"Enter the name of the book you want to return\")\n",
    "        return self.book\n",
    "\n",
    "if __name__ == \"__main__\":\n",
    "    centralLibrary=Library([\"Algorithm\",\"Django\",\"clrs\",\"Python Notes\"])\n",
    "    student=Student()\n",
    "    #centralLibrary.displayAvailableBooks()\n",
    "    while(True):\n",
    "        welcomeMsg = \"\"\"\n",
    "        *******WELCOME TO CENTRAL LIBRARY*******\n",
    "        Please choose an option from the following menu:\n",
    "        1. List of Books available in the Library\n",
    "        2. Request a Book\n",
    "        3. Donate/Return a Book\n",
    "        4. Exit the Library\n",
    "        \"\"\"\n",
    "        print(welcomeMsg)\n",
    "        a=int(input(\"Enter a choice: \"))\n",
    "        if a==1:\n",
    "            centralLibrary.displayAvailableBooks()\n",
    "        elif a==2:\n",
    "            centralLibrary.borrowBook(student.requestBook())\n",
    "        elif a==3:\n",
    "            centralLibrary.returnBook(student.returnBook())\n",
    "        elif a==4:\n",
    "            print(\"Thanks for choosing Central Library\")\n",
    "            break\n",
    "        \n",
    "      \n"
   ]
  },
  {
   "cell_type": "code",
   "execution_count": null,
   "id": "91b18309",
   "metadata": {},
   "outputs": [],
   "source": []
  }
 ],
 "metadata": {
  "kernelspec": {
   "display_name": "Python 3 (ipykernel)",
   "language": "python",
   "name": "python3"
  },
  "language_info": {
   "codemirror_mode": {
    "name": "ipython",
    "version": 3
   },
   "file_extension": ".py",
   "mimetype": "text/x-python",
   "name": "python",
   "nbconvert_exporter": "python",
   "pygments_lexer": "ipython3",
   "version": "3.11.5"
  }
 },
 "nbformat": 4,
 "nbformat_minor": 5
}
