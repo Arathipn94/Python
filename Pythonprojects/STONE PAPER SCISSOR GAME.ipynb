{
 "cells": [
  {
   "cell_type": "markdown",
   "id": "6b1b50ae",
   "metadata": {},
   "source": [
    "# STONE PAPER SCISSOR GAME"
   ]
  },
  {
   "cell_type": "code",
   "execution_count": 1,
   "id": "f06e114e",
   "metadata": {},
   "outputs": [],
   "source": [
    "import random"
   ]
  },
  {
   "cell_type": "code",
   "execution_count": 12,
   "id": "61729c93",
   "metadata": {},
   "outputs": [
    {
     "name": "stdout",
     "output_type": "stream",
     "text": [
      "Computer Turn: Rock(r) Paper(p) or Scissor(s)?\n",
      "Your Turn: Rock(r) Paper(p) or Scissor(s)? r\n",
      "Computer chose p\n",
      "Player chose r\n",
      "The WINNER of this game is COMPUTER\n"
     ]
    }
   ],
   "source": [
    "def gamewin(computer,player):\n",
    "    if computer ==player:\n",
    "        return None\n",
    "    elif computer==\"r\":\n",
    "        if player==\"p\":\n",
    "            return True\n",
    "        elif player==\"s\":\n",
    "            return False\n",
    "    elif computer==\"p\":\n",
    "        if player==\"r\":\n",
    "            return False\n",
    "        elif player==\"s\":\n",
    "            return True\n",
    "    elif computer==\"s\":\n",
    "        if player==\"r\":\n",
    "            return True\n",
    "        elif player==\"p\":\n",
    "            return False\n",
    "        \n",
    "print(\"Computer Turn: Rock(r) Paper(p) or Scissor(s)?\")\n",
    "randno=random.randint(1,3)\n",
    "if randno==1:\n",
    "    computer=\"r\"\n",
    "elif randno==2:\n",
    "    computer=\"p\"\n",
    "elif randno==3:\n",
    "    computer =\"s\"\n",
    "player=input(\"Your Turn: Rock(r) Paper(p) or Scissor(s)? \")\n",
    "a=gamewin(computer,player)\n",
    "\n",
    "print(f\"Computer chose {computer}\")\n",
    "print(f\"Player chose {player}\")\n",
    "if a==None:\n",
    "    print(\"The game is a tie\")\n",
    "elif a:\n",
    "    print(\"The WINNER of this game is PLAYER\")\n",
    "else:\n",
    "    print(\"The WINNER of this game is COMPUTER\")\n",
    "    "
   ]
  },
  {
   "cell_type": "code",
   "execution_count": null,
   "id": "920662a7",
   "metadata": {},
   "outputs": [],
   "source": []
  },
  {
   "cell_type": "code",
   "execution_count": null,
   "id": "b52dd540",
   "metadata": {},
   "outputs": [],
   "source": []
  }
 ],
 "metadata": {
  "kernelspec": {
   "display_name": "Python 3 (ipykernel)",
   "language": "python",
   "name": "python3"
  },
  "language_info": {
   "codemirror_mode": {
    "name": "ipython",
    "version": 3
   },
   "file_extension": ".py",
   "mimetype": "text/x-python",
   "name": "python",
   "nbconvert_exporter": "python",
   "pygments_lexer": "ipython3",
   "version": "3.11.5"
  }
 },
 "nbformat": 4,
 "nbformat_minor": 5
}
